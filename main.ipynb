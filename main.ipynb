{
 "cells": [
  {
   "cell_type": "code",
   "execution_count": 1,
   "id": "add7dba4-f775-4031-bfb1-10cdc01bfa63",
   "metadata": {},
   "outputs": [],
   "source": [
    "### START ###"
   ]
  },
  {
   "cell_type": "code",
   "execution_count": 2,
   "id": "eb265ece-0b4d-4e12-9e54-593c219cdb46",
   "metadata": {},
   "outputs": [],
   "source": [
    "## Import necessary libraries ##\n",
    "import pandas as pd\n",
    "from sklearn import tree\n",
    "import matplotlib.pyplot as plt"
   ]
  },
  {
   "cell_type": "code",
   "execution_count": 3,
   "id": "6c11be24-a864-429c-88bf-25cb44c34515",
   "metadata": {},
   "outputs": [],
   "source": [
    "## Read training and testing dataset\n",
    "trainingData = pd.read_csv('fraudTrain.csv')\n",
    "testingData = pd.read_csv('fraudTest.csv')"
   ]
  },
  {
   "cell_type": "code",
   "execution_count": 4,
   "id": "b9de9ec7-66be-49c5-863e-a6ce8a2d1eb0",
   "metadata": {},
   "outputs": [
    {
     "name": "stdout",
     "output_type": "stream",
     "text": [
      "Size of dataset 29823525\n",
      "Number of frauds:  7506\n"
     ]
    },
    {
     "data": {
      "text/html": [
       "<div>\n",
       "<style scoped>\n",
       "    .dataframe tbody tr th:only-of-type {\n",
       "        vertical-align: middle;\n",
       "    }\n",
       "\n",
       "    .dataframe tbody tr th {\n",
       "        vertical-align: top;\n",
       "    }\n",
       "\n",
       "    .dataframe thead th {\n",
       "        text-align: right;\n",
       "    }\n",
       "</style>\n",
       "<table border=\"1\" class=\"dataframe\">\n",
       "  <thead>\n",
       "    <tr style=\"text-align: right;\">\n",
       "      <th></th>\n",
       "      <th>Unnamed: 0</th>\n",
       "      <th>trans_date_trans_time</th>\n",
       "      <th>cc_num</th>\n",
       "      <th>merchant</th>\n",
       "      <th>category</th>\n",
       "      <th>amt</th>\n",
       "      <th>first</th>\n",
       "      <th>last</th>\n",
       "      <th>gender</th>\n",
       "      <th>street</th>\n",
       "      <th>...</th>\n",
       "      <th>lat</th>\n",
       "      <th>long</th>\n",
       "      <th>city_pop</th>\n",
       "      <th>job</th>\n",
       "      <th>dob</th>\n",
       "      <th>trans_num</th>\n",
       "      <th>unix_time</th>\n",
       "      <th>merch_lat</th>\n",
       "      <th>merch_long</th>\n",
       "      <th>is_fraud</th>\n",
       "    </tr>\n",
       "  </thead>\n",
       "  <tbody>\n",
       "    <tr>\n",
       "      <th>0</th>\n",
       "      <td>0</td>\n",
       "      <td>2019-01-01 00:00:18</td>\n",
       "      <td>2703186189652095</td>\n",
       "      <td>fraud_Rippin, Kub and Mann</td>\n",
       "      <td>misc_net</td>\n",
       "      <td>4.97</td>\n",
       "      <td>Jennifer</td>\n",
       "      <td>Banks</td>\n",
       "      <td>F</td>\n",
       "      <td>561 Perry Cove</td>\n",
       "      <td>...</td>\n",
       "      <td>36.0788</td>\n",
       "      <td>-81.1781</td>\n",
       "      <td>3495</td>\n",
       "      <td>Psychologist, counselling</td>\n",
       "      <td>1988-03-09</td>\n",
       "      <td>0b242abb623afc578575680df30655b9</td>\n",
       "      <td>1325376018</td>\n",
       "      <td>36.011293</td>\n",
       "      <td>-82.048315</td>\n",
       "      <td>0</td>\n",
       "    </tr>\n",
       "    <tr>\n",
       "      <th>1</th>\n",
       "      <td>1</td>\n",
       "      <td>2019-01-01 00:00:44</td>\n",
       "      <td>630423337322</td>\n",
       "      <td>fraud_Heller, Gutmann and Zieme</td>\n",
       "      <td>grocery_pos</td>\n",
       "      <td>107.23</td>\n",
       "      <td>Stephanie</td>\n",
       "      <td>Gill</td>\n",
       "      <td>F</td>\n",
       "      <td>43039 Riley Greens Suite 393</td>\n",
       "      <td>...</td>\n",
       "      <td>48.8878</td>\n",
       "      <td>-118.2105</td>\n",
       "      <td>149</td>\n",
       "      <td>Special educational needs teacher</td>\n",
       "      <td>1978-06-21</td>\n",
       "      <td>1f76529f8574734946361c461b024d99</td>\n",
       "      <td>1325376044</td>\n",
       "      <td>49.159047</td>\n",
       "      <td>-118.186462</td>\n",
       "      <td>0</td>\n",
       "    </tr>\n",
       "  </tbody>\n",
       "</table>\n",
       "<p>2 rows × 23 columns</p>\n",
       "</div>"
      ],
      "text/plain": [
       "   Unnamed: 0 trans_date_trans_time            cc_num  \\\n",
       "0           0   2019-01-01 00:00:18  2703186189652095   \n",
       "1           1   2019-01-01 00:00:44      630423337322   \n",
       "\n",
       "                          merchant     category     amt      first   last  \\\n",
       "0       fraud_Rippin, Kub and Mann     misc_net    4.97   Jennifer  Banks   \n",
       "1  fraud_Heller, Gutmann and Zieme  grocery_pos  107.23  Stephanie   Gill   \n",
       "\n",
       "  gender                        street  ...      lat      long  city_pop  \\\n",
       "0      F                561 Perry Cove  ...  36.0788  -81.1781      3495   \n",
       "1      F  43039 Riley Greens Suite 393  ...  48.8878 -118.2105       149   \n",
       "\n",
       "                                 job         dob  \\\n",
       "0          Psychologist, counselling  1988-03-09   \n",
       "1  Special educational needs teacher  1978-06-21   \n",
       "\n",
       "                          trans_num   unix_time  merch_lat  merch_long  \\\n",
       "0  0b242abb623afc578575680df30655b9  1325376018  36.011293  -82.048315   \n",
       "1  1f76529f8574734946361c461b024d99  1325376044  49.159047 -118.186462   \n",
       "\n",
       "   is_fraud  \n",
       "0         0  \n",
       "1         0  \n",
       "\n",
       "[2 rows x 23 columns]"
      ]
     },
     "execution_count": 4,
     "metadata": {},
     "output_type": "execute_result"
    }
   ],
   "source": [
    "## Info on training dataset ##\n",
    "# Print size of dataset\n",
    "print(\"Size of dataset\", trainingData.size)\n",
    "\n",
    "# Print number of frauds\n",
    "print(\"Number of frauds: \", len(trainingData[trainingData[\"is_fraud\"] == 1]))\n",
    "\n",
    "# Display top of dataset\n",
    "trainingData.head(2) "
   ]
  },
  {
   "cell_type": "code",
   "execution_count": 5,
   "id": "0dcf18c3-1d62-4f81-bbca-b0cc1e9de6f6",
   "metadata": {},
   "outputs": [],
   "source": [
    "## Clean training dataset ##\n",
    "\n",
    "# Remove rows containing missing values\n",
    "trainingData.drop_duplicates(inplace=True)\n",
    "trainingData.dropna(inplace=True)"
   ]
  },
  {
   "cell_type": "code",
   "execution_count": 6,
   "id": "5c17e5b6-a6d7-482e-9e04-04585af1d456",
   "metadata": {},
   "outputs": [],
   "source": [
    "### ANALYSIS OF DATASET ###"
   ]
  },
  {
   "cell_type": "code",
   "execution_count": 7,
   "id": "8d1eedab-000f-4f8c-aae9-dd6dbe3b59ba",
   "metadata": {},
   "outputs": [
    {
     "name": "stdout",
     "output_type": "stream",
     "text": [
      "Size of dataset 29823525\n",
      "Number of frauds:  7506\n"
     ]
    }
   ],
   "source": [
    "## Info on cleaned dataset ##\n",
    "# Get size of dataset\n",
    "print(\"Size of dataset\", trainingData.size)\n",
    "\n",
    "# Get number of frauds\n",
    "print(\"Number of frauds: \", len(trainingData[trainingData[\"is_fraud\"] == 1]))"
   ]
  },
  {
   "cell_type": "code",
   "execution_count": 8,
   "id": "a11c402f-51b6-4b73-a47f-4c5b3525ea20",
   "metadata": {},
   "outputs": [
    {
     "data": {
      "text/plain": [
       "Unnamed: 0                 int64\n",
       "trans_date_trans_time     object\n",
       "cc_num                     int64\n",
       "merchant                  object\n",
       "category                  object\n",
       "amt                      float64\n",
       "first                     object\n",
       "last                      object\n",
       "gender                    object\n",
       "street                    object\n",
       "city                      object\n",
       "state                     object\n",
       "zip                        int64\n",
       "lat                      float64\n",
       "long                     float64\n",
       "city_pop                   int64\n",
       "job                       object\n",
       "dob                       object\n",
       "trans_num                 object\n",
       "unix_time                  int64\n",
       "merch_lat                float64\n",
       "merch_long               float64\n",
       "is_fraud                   int64\n",
       "dtype: object"
      ]
     },
     "execution_count": 8,
     "metadata": {},
     "output_type": "execute_result"
    }
   ],
   "source": [
    "trainingData.dtypes"
   ]
  },
  {
   "cell_type": "code",
   "execution_count": 9,
   "id": "da743400-3266-4ba5-8b9b-29ca4362c696",
   "metadata": {},
   "outputs": [
    {
     "data": {
      "text/html": [
       "<div>\n",
       "<style scoped>\n",
       "    .dataframe tbody tr th:only-of-type {\n",
       "        vertical-align: middle;\n",
       "    }\n",
       "\n",
       "    .dataframe tbody tr th {\n",
       "        vertical-align: top;\n",
       "    }\n",
       "\n",
       "    .dataframe thead th {\n",
       "        text-align: right;\n",
       "    }\n",
       "</style>\n",
       "<table border=\"1\" class=\"dataframe\">\n",
       "  <thead>\n",
       "    <tr style=\"text-align: right;\">\n",
       "      <th></th>\n",
       "      <th>Unnamed: 0</th>\n",
       "      <th>trans_date_trans_time</th>\n",
       "      <th>cc_num</th>\n",
       "      <th>merchant</th>\n",
       "      <th>category</th>\n",
       "      <th>amt</th>\n",
       "      <th>first</th>\n",
       "      <th>last</th>\n",
       "      <th>gender</th>\n",
       "      <th>street</th>\n",
       "      <th>...</th>\n",
       "      <th>lat</th>\n",
       "      <th>long</th>\n",
       "      <th>city_pop</th>\n",
       "      <th>job</th>\n",
       "      <th>dob</th>\n",
       "      <th>trans_num</th>\n",
       "      <th>unix_time</th>\n",
       "      <th>merch_lat</th>\n",
       "      <th>merch_long</th>\n",
       "      <th>is_fraud</th>\n",
       "    </tr>\n",
       "  </thead>\n",
       "  <tbody>\n",
       "    <tr>\n",
       "      <th>2449</th>\n",
       "      <td>2449</td>\n",
       "      <td>2019-01-02 01:06:37</td>\n",
       "      <td>4613314721966</td>\n",
       "      <td>fraud_Rutherford-Mertz</td>\n",
       "      <td>grocery_pos</td>\n",
       "      <td>281.06</td>\n",
       "      <td>Jason</td>\n",
       "      <td>Murphy</td>\n",
       "      <td>M</td>\n",
       "      <td>542 Steve Curve Suite 011</td>\n",
       "      <td>...</td>\n",
       "      <td>35.9946</td>\n",
       "      <td>-81.7266</td>\n",
       "      <td>885</td>\n",
       "      <td>Soil scientist</td>\n",
       "      <td>1988-09-15</td>\n",
       "      <td>e8a81877ae9a0a7f883e15cb39dc4022</td>\n",
       "      <td>1325466397</td>\n",
       "      <td>36.430124</td>\n",
       "      <td>-81.179483</td>\n",
       "      <td>1</td>\n",
       "    </tr>\n",
       "    <tr>\n",
       "      <th>2472</th>\n",
       "      <td>2472</td>\n",
       "      <td>2019-01-02 01:47:29</td>\n",
       "      <td>340187018810220</td>\n",
       "      <td>fraud_Jenkins, Hauck and Friesen</td>\n",
       "      <td>gas_transport</td>\n",
       "      <td>11.52</td>\n",
       "      <td>Misty</td>\n",
       "      <td>Hart</td>\n",
       "      <td>F</td>\n",
       "      <td>27954 Hall Mill Suite 575</td>\n",
       "      <td>...</td>\n",
       "      <td>29.4400</td>\n",
       "      <td>-98.4590</td>\n",
       "      <td>1595797</td>\n",
       "      <td>Horticultural consultant</td>\n",
       "      <td>1960-10-28</td>\n",
       "      <td>bc7d41c41103877b03232f03f1f8d3f5</td>\n",
       "      <td>1325468849</td>\n",
       "      <td>29.819364</td>\n",
       "      <td>-99.142791</td>\n",
       "      <td>1</td>\n",
       "    </tr>\n",
       "    <tr>\n",
       "      <th>2523</th>\n",
       "      <td>2523</td>\n",
       "      <td>2019-01-02 03:05:23</td>\n",
       "      <td>340187018810220</td>\n",
       "      <td>fraud_Goodwin-Nitzsche</td>\n",
       "      <td>grocery_pos</td>\n",
       "      <td>276.31</td>\n",
       "      <td>Misty</td>\n",
       "      <td>Hart</td>\n",
       "      <td>F</td>\n",
       "      <td>27954 Hall Mill Suite 575</td>\n",
       "      <td>...</td>\n",
       "      <td>29.4400</td>\n",
       "      <td>-98.4590</td>\n",
       "      <td>1595797</td>\n",
       "      <td>Horticultural consultant</td>\n",
       "      <td>1960-10-28</td>\n",
       "      <td>b98f12f4168391b2203238813df5aa8c</td>\n",
       "      <td>1325473523</td>\n",
       "      <td>29.273085</td>\n",
       "      <td>-98.836360</td>\n",
       "      <td>1</td>\n",
       "    </tr>\n",
       "    <tr>\n",
       "      <th>2546</th>\n",
       "      <td>2546</td>\n",
       "      <td>2019-01-02 03:38:03</td>\n",
       "      <td>4613314721966</td>\n",
       "      <td>fraud_Erdman-Kertzmann</td>\n",
       "      <td>gas_transport</td>\n",
       "      <td>7.03</td>\n",
       "      <td>Jason</td>\n",
       "      <td>Murphy</td>\n",
       "      <td>M</td>\n",
       "      <td>542 Steve Curve Suite 011</td>\n",
       "      <td>...</td>\n",
       "      <td>35.9946</td>\n",
       "      <td>-81.7266</td>\n",
       "      <td>885</td>\n",
       "      <td>Soil scientist</td>\n",
       "      <td>1988-09-15</td>\n",
       "      <td>397894a5c4c02e3c61c784001f0f14e4</td>\n",
       "      <td>1325475483</td>\n",
       "      <td>35.909292</td>\n",
       "      <td>-82.091010</td>\n",
       "      <td>1</td>\n",
       "    </tr>\n",
       "    <tr>\n",
       "      <th>2553</th>\n",
       "      <td>2553</td>\n",
       "      <td>2019-01-02 03:55:47</td>\n",
       "      <td>340187018810220</td>\n",
       "      <td>fraud_Koepp-Parker</td>\n",
       "      <td>grocery_pos</td>\n",
       "      <td>275.73</td>\n",
       "      <td>Misty</td>\n",
       "      <td>Hart</td>\n",
       "      <td>F</td>\n",
       "      <td>27954 Hall Mill Suite 575</td>\n",
       "      <td>...</td>\n",
       "      <td>29.4400</td>\n",
       "      <td>-98.4590</td>\n",
       "      <td>1595797</td>\n",
       "      <td>Horticultural consultant</td>\n",
       "      <td>1960-10-28</td>\n",
       "      <td>7863235a750d73a244c07f1fb7f0185a</td>\n",
       "      <td>1325476547</td>\n",
       "      <td>29.786426</td>\n",
       "      <td>-98.683410</td>\n",
       "      <td>1</td>\n",
       "    </tr>\n",
       "  </tbody>\n",
       "</table>\n",
       "<p>5 rows × 23 columns</p>\n",
       "</div>"
      ],
      "text/plain": [
       "      Unnamed: 0 trans_date_trans_time           cc_num  \\\n",
       "2449        2449   2019-01-02 01:06:37    4613314721966   \n",
       "2472        2472   2019-01-02 01:47:29  340187018810220   \n",
       "2523        2523   2019-01-02 03:05:23  340187018810220   \n",
       "2546        2546   2019-01-02 03:38:03    4613314721966   \n",
       "2553        2553   2019-01-02 03:55:47  340187018810220   \n",
       "\n",
       "                              merchant       category     amt  first    last  \\\n",
       "2449            fraud_Rutherford-Mertz    grocery_pos  281.06  Jason  Murphy   \n",
       "2472  fraud_Jenkins, Hauck and Friesen  gas_transport   11.52  Misty    Hart   \n",
       "2523            fraud_Goodwin-Nitzsche    grocery_pos  276.31  Misty    Hart   \n",
       "2546            fraud_Erdman-Kertzmann  gas_transport    7.03  Jason  Murphy   \n",
       "2553                fraud_Koepp-Parker    grocery_pos  275.73  Misty    Hart   \n",
       "\n",
       "     gender                     street  ...      lat     long  city_pop  \\\n",
       "2449      M  542 Steve Curve Suite 011  ...  35.9946 -81.7266       885   \n",
       "2472      F  27954 Hall Mill Suite 575  ...  29.4400 -98.4590   1595797   \n",
       "2523      F  27954 Hall Mill Suite 575  ...  29.4400 -98.4590   1595797   \n",
       "2546      M  542 Steve Curve Suite 011  ...  35.9946 -81.7266       885   \n",
       "2553      F  27954 Hall Mill Suite 575  ...  29.4400 -98.4590   1595797   \n",
       "\n",
       "                           job         dob                         trans_num  \\\n",
       "2449            Soil scientist  1988-09-15  e8a81877ae9a0a7f883e15cb39dc4022   \n",
       "2472  Horticultural consultant  1960-10-28  bc7d41c41103877b03232f03f1f8d3f5   \n",
       "2523  Horticultural consultant  1960-10-28  b98f12f4168391b2203238813df5aa8c   \n",
       "2546            Soil scientist  1988-09-15  397894a5c4c02e3c61c784001f0f14e4   \n",
       "2553  Horticultural consultant  1960-10-28  7863235a750d73a244c07f1fb7f0185a   \n",
       "\n",
       "       unix_time  merch_lat merch_long  is_fraud  \n",
       "2449  1325466397  36.430124 -81.179483         1  \n",
       "2472  1325468849  29.819364 -99.142791         1  \n",
       "2523  1325473523  29.273085 -98.836360         1  \n",
       "2546  1325475483  35.909292 -82.091010         1  \n",
       "2553  1325476547  29.786426 -98.683410         1  \n",
       "\n",
       "[5 rows x 23 columns]"
      ]
     },
     "execution_count": 9,
     "metadata": {},
     "output_type": "execute_result"
    }
   ],
   "source": [
    "trainingData[trainingData[\"is_fraud\"] == 1].head(5)"
   ]
  },
  {
   "cell_type": "code",
   "execution_count": 10,
   "id": "8ea84186-206a-41b0-91e3-bede798dd9a7",
   "metadata": {},
   "outputs": [
    {
     "name": "stdout",
     "output_type": "stream",
     "text": [
      "478\n",
      "15\n"
     ]
    }
   ],
   "source": [
    "## Analysing frauds ##\n",
    "#trainingData[trainingData[\"cc_num\"] == 4593569795412]\n",
    "\n",
    "trainingData.groupby(\"cc_num\").filter(lambda group: (group[\"is_fraud\"] == 1).any() and (group[\"is_fraud\"] == 0).any()).head(2)\n",
    "\n",
    "both_fraud_and_not_fraud = trainingData[trainingData[\"cc_num\"] == 3534093764340240]\n",
    "\n",
    "print(len(both_fraud_and_not_fraud[both_fraud_and_not_fraud[\"is_fraud\"] == 0]))\n",
    "print(len(both_fraud_and_not_fraud[both_fraud_and_not_fraud[\"is_fraud\"] == 1]))"
   ]
  },
  {
   "cell_type": "markdown",
   "id": "2e8373c0-a544-4411-b70e-a596f6bdcbcc",
   "metadata": {},
   "source": [
    "So in this dataset, the exact transaction when a credit card holder becomes a fraud is known."
   ]
  },
  {
   "cell_type": "code",
   "execution_count": 11,
   "id": "f41d8c49-8841-4613-a680-a420b7c73011",
   "metadata": {},
   "outputs": [],
   "source": [
    "def extractAndPrintSizeDistributionData(data):\n",
    "    print(\"Mean:\", data.mean())\n",
    "    print(\"IQR:\", data.quantile(0.25), \"to\", data.quantile(0.75))\n",
    "    print(\"Range:\", data.min(), \"to\", data.max())\n",
    "    \n",
    "    plt.figure(figsize=(10, 6))\n",
    "    plt.hist(data, bins=10, color='blue')\n",
    "    plt.xlabel(\"Number of transactions\")\n",
    "    plt.ylabel(\"Frequency\")\n",
    "    plt.title(\"Distribution of number of transactions per person\")\n",
    "    plt.show()"
   ]
  },
  {
   "cell_type": "code",
   "execution_count": 12,
   "id": "1237a2d8-5b73-4f22-9f5f-50d824e58bf8",
   "metadata": {},
   "outputs": [
    {
     "name": "stdout",
     "output_type": "stream",
     "text": [
      "Mean: 1319.0996948118006\n",
      "IQR: 525.0 to 2025.0\n",
      "Range: 7 to 3123\n"
     ]
    },
    {
     "data": {
      "image/png": "[encoded data removed]",
      "text/plain": [
       "<Figure size 1000x600 with 1 Axes>"
      ]
     },
     "metadata": {},
     "output_type": "display_data"
    }
   ],
   "source": [
    "training_size_data = trainingData.groupby(\"cc_num\").size()\n",
    "\n",
    "# Info of the amount of transactions associated with every unique credit card account\n",
    "extractAndPrintSizeDistributionData(training_size_data)"
   ]
  },
  {
   "cell_type": "code",
   "execution_count": 13,
   "id": "cc4e5c08-be7d-45e6-b8c3-254ae2095068",
   "metadata": {},
   "outputs": [
    {
     "name": "stdout",
     "output_type": "stream",
     "text": [
      "Mean: 9.850393700787402\n",
      "IQR: 8.0 to 12.0\n",
      "Range: 2 to 19\n"
     ]
    },
    {
     "data": {
      "image/png": "[encoded data removed]",
      "text/plain": [
       "<Figure size 1000x600 with 1 Axes>"
      ]
     },
     "metadata": {},
     "output_type": "display_data"
    }
   ],
   "source": [
    "fraud_size_data = trainingData[trainingData[\"is_fraud\"] == 1].groupby(\"cc_num\").size()\n",
    "\n",
    "# Info of the amount of transactions associated with every unique credit card that ended up being fraudulent\n",
    "extractAndPrintSizeDistributionData(fraud_size_data)"
   ]
  },
  {
   "cell_type": "raw",
   "id": "242eef5c-c547-4e28-a920-3a05fd85ebfe",
   "metadata": {},
   "source": [
    "## CONCLUSION ABOUT SIZE ##\n",
    "Frauds have only made very few transactions in this database (19)\n",
    "Therefore, if we are going to consider history for the transactions, we only need to consider around 10 previous transactions"
   ]
  },
  {
   "cell_type": "code",
   "execution_count": null,
   "id": "46325285-c0a6-4dcb-80b5-5cc1e7bc2666",
   "metadata": {},
   "outputs": [],
   "source": []
  },
  {
   "cell_type": "code",
   "execution_count": null,
   "id": "daf4259e-7f5c-4f56-a033-b7fd2d4f9fe4",
   "metadata": {},
   "outputs": [],
   "source": []
  },
  {
   "cell_type": "code",
   "execution_count": null,
   "id": "fe52b3f7-5c03-45a5-baff-af36c0e401c1",
   "metadata": {},
   "outputs": [],
   "source": []
  },
  {
   "cell_type": "code",
   "execution_count": null,
   "id": "dbb1ed3c-1140-4566-870a-0da101cb74f1",
   "metadata": {},
   "outputs": [],
   "source": []
  },
  {
   "cell_type": "code",
   "execution_count": null,
   "id": "60551516-dfc4-4fa1-92a6-166d7a5bfd25",
   "metadata": {},
   "outputs": [],
   "source": []
  },
  {
   "cell_type": "code",
   "execution_count": null,
   "id": "73618051-62ef-4708-b97a-d46d2ef2a08e",
   "metadata": {},
   "outputs": [],
   "source": []
  },
  {
   "cell_type": "code",
   "execution_count": null,
   "id": "e328ff41-7da9-4c17-9e56-b275c0081aef",
   "metadata": {},
   "outputs": [],
   "source": []
  },
  {
   "cell_type": "code",
   "execution_count": null,
   "id": "501c9358-cc94-4178-9805-0daaf9990bba",
   "metadata": {},
   "outputs": [],
   "source": []
  },
  {
   "cell_type": "code",
   "execution_count": null,
   "id": "dcdbc9c1-0c2b-4d4a-86e6-f2d05883e56c",
   "metadata": {},
   "outputs": [],
   "source": []
  }
 ],
 "metadata": {
  "kernelspec": {
   "display_name": "Python 3 (ipykernel)",
   "language": "python",
   "name": "python3"
  },
  "language_info": {
   "codemirror_mode": {
    "name": "ipython",
    "version": 3
   },
   "file_extension": ".py",
   "mimetype": "text/x-python",
   "name": "python",
   "nbconvert_exporter": "python",
   "pygments_lexer": "ipython3",
   "version": "3.11.5"
  }
 },
 "nbformat": 4,
 "nbformat_minor": 5
}
